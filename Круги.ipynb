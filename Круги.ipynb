{
 "cells": [
  {
   "cell_type": "markdown",
   "metadata": {},
   "source": [
    "# Круги."
   ]
  },
  {
   "cell_type": "markdown",
   "metadata": {},
   "source": [
    "Окружность есть отрезок длиной $2\\pi$ с периодическими гранусловиями. Переменная $x$ задает длину дуги окружности от точки $(1,0)$ до сгенерированной точки против часовой стрелки."
   ]
  },
  {
   "cell_type": "code",
   "execution_count": 23,
   "metadata": {},
   "outputs": [
    {
     "name": "stdout",
     "output_type": "stream",
     "text": [
      "1.0089019640720343\n"
     ]
    }
   ],
   "source": [
    "import numpy as np\n",
    "import random\n",
    "\n",
    "x=[0,0,0]\n",
    "N = 1000\n",
    "L = 0\n",
    "\n",
    "L10 = lambda x: np.min(x) + ( 2*np.pi - np.max(x) )\n",
    "\n",
    "for m in range (N):\n",
    "\n",
    "    for i in range (3):\n",
    "        x[i]=random.uniform( 0 , 2*np.pi )\n",
    "        \n",
    "    L10 = lambda x: np.min(x) + ( 2*np.pi - np.max(x) )\n",
    "    \n",
    "    L += L10(x)\n",
    "    \n",
    "print ( L / ( np.pi*N ) )    \n"
   ]
  },
  {
   "cell_type": "markdown",
   "metadata": {},
   "source": [
    "Получается $1$, и это совпадает с аналитическим ответом. Теперь про центр."
   ]
  },
  {
   "cell_type": "code",
   "execution_count": 54,
   "metadata": {},
   "outputs": [
    {
     "name": "stdout",
     "output_type": "stream",
     "text": [
      "0.248974\n"
     ]
    }
   ],
   "source": [
    "Phi = [0,0,0]\n",
    "x  =  [1,0,0]\n",
    "y  =  [0,0,0]\n",
    "\n",
    "\n",
    "N = 1000000\n",
    "n = 0\n",
    "\n",
    "eps = 0.00001\n",
    "\n",
    "for m in range (N):\n",
    "\n",
    "    for i in range (2):\n",
    "        Phi[i+1] = random.uniform( 0 , 2*np.pi )\n",
    "        x[i+1] = np.cos(Phi[i+1])\n",
    "        y[i+1] = np.sin(Phi[i+1])\n",
    "    \n",
    "    Phi1 = np.arccos(x[0]*x[1]+y[0]*y[1])\n",
    "    Phi2 = np.arccos(x[1]*x[2]+y[1]*y[2])\n",
    "    Phi3 = np.arccos(x[2]*x[0]+y[2]*y[0])\n",
    "    \n",
    "    if np.abs((Phi1 + Phi2 + Phi3 - 2*np.pi)) < eps:\n",
    "        \n",
    "        n += 1\n",
    "        \n",
    "print (n/N)       \n",
    "        "
   ]
  },
  {
   "cell_type": "markdown",
   "metadata": {},
   "source": [
    "Здесь главная проблема была в том, как понять, лежит ли точка $0$ внутри треугольника. Я выбрал следующий способ: проведем из точки $0$ отрезки к вершинам. Если сумма углов между этими отрезками равна $2 \\pi$, то точка лежит внутри треугольника. Если не равна, то не лежит. Как мы видим, ответ близок к аналитическому."
   ]
  }
 ],
 "metadata": {
  "kernelspec": {
   "display_name": "Python 3",
   "language": "python",
   "name": "python3"
  },
  "language_info": {
   "codemirror_mode": {
    "name": "ipython",
    "version": 3
   },
   "file_extension": ".py",
   "mimetype": "text/x-python",
   "name": "python",
   "nbconvert_exporter": "python",
   "pygments_lexer": "ipython3",
   "version": "3.6.5"
  }
 },
 "nbformat": 4,
 "nbformat_minor": 2
}
